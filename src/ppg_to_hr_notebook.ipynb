{
 "cells": [
  {
   "cell_type": "code",
   "execution_count": 4,
   "metadata": {},
   "outputs": [
    {
     "name": "stdout",
     "output_type": "stream",
     "text": [
      "Showing the pickled data:\n",
      "The data  0  is :  rpeaks\n",
      "The data  1  is :  signal\n",
      "The data  2  is :  label\n",
      "The data  3  is :  activity\n",
      "The data  4  is :  questionnaire\n",
      "The data  5  is :  subject\n"
     ]
    }
   ],
   "source": [
    "import pickle\n",
    "\n",
    "# Open the file with the correct encoding\n",
    "with open(r'C:\\Users\\sheik\\Documents\\School\\GeorgiaTech\\3_2024Fall\\DL\\KID_PPG\\code\\data\\PPG_FieldStudy\\S1\\S1.pkl', 'rb') as file:\n",
    "    data = pickle.load(file, encoding='latin1')  # Adjust encoding if needed\n",
    "\n",
    "# close the file\n",
    "file.close()\n",
    "\n",
    "print('Showing the pickled data:')\n",
    "\n",
    "cnt = 0\n",
    "for item in data:\n",
    "    print('The data ', cnt, ' is : ', item)\n",
    "    cnt += 1"
   ]
  },
  {
   "cell_type": "code",
   "execution_count": 7,
   "metadata": {},
   "outputs": [
    {
     "data": {
      "text/plain": [
       "dict_keys(['rpeaks', 'signal', 'label', 'activity', 'questionnaire', 'subject'])"
      ]
     },
     "execution_count": 7,
     "metadata": {},
     "output_type": "execute_result"
    }
   ],
   "source": [
    "data.keys()"
   ]
  },
  {
   "cell_type": "code",
   "execution_count": 23,
   "metadata": {},
   "outputs": [
    {
     "data": {
      "text/plain": [
       "{'chest': {'ACC': array([[ 0.85640001, -0.06779999, -0.36559999],\n",
       "         [ 0.8556    , -0.06900001, -0.3646    ],\n",
       "         [ 0.852     , -0.07020003, -0.3642    ],\n",
       "         ...,\n",
       "         [ 0.88759995, -0.1038    , -0.27920002],\n",
       "         [ 0.88619995, -0.10159999, -0.27819997],\n",
       "         [ 0.88680005, -0.10140002, -0.27380002]]),\n",
       "  'ECG': array([[0.01560974],\n",
       "         [0.01812744],\n",
       "         [0.01753235],\n",
       "         ...,\n",
       "         [0.21368408],\n",
       "         [0.21556091],\n",
       "         [0.21702576]]),\n",
       "  'EMG': array([[-1.5],\n",
       "         [-1.5],\n",
       "         [-1.5],\n",
       "         ...,\n",
       "         [-1.5],\n",
       "         [-1.5],\n",
       "         [-1.5]]),\n",
       "  'EDA': array([[0.],\n",
       "         [0.],\n",
       "         [0.],\n",
       "         ...,\n",
       "         [0.],\n",
       "         [0.],\n",
       "         [0.]]),\n",
       "  'Temp': array([[-273.15],\n",
       "         [-273.15],\n",
       "         [-273.15],\n",
       "         ...,\n",
       "         [-273.15],\n",
       "         [-273.15],\n",
       "         [-273.15]], dtype=float32),\n",
       "  'Resp': array([[ 4.4418335 ],\n",
       "         [ 4.45098877],\n",
       "         [ 4.47387695],\n",
       "         ...,\n",
       "         [-3.05023193],\n",
       "         [-3.05328369],\n",
       "         [-3.05633545]])},\n",
       " 'wrist': {'ACC': array([[-0.765625, -0.078125,  0.671875],\n",
       "         [-0.765625, -0.078125,  0.65625 ],\n",
       "         [-0.765625, -0.078125,  0.671875],\n",
       "         ...,\n",
       "         [-0.375   , -0.015625,  0.9375  ],\n",
       "         [-0.390625,  0.      ,  0.9375  ],\n",
       "         [-0.375   ,  0.      ,  0.9375  ]]),\n",
       "  'BVP': array([[  7.28],\n",
       "         [  6.33],\n",
       "         [  5.46],\n",
       "         ...,\n",
       "         [105.02],\n",
       "         [109.44],\n",
       "         [111.06]]),\n",
       "  'EDA': array([[4.722437],\n",
       "         [4.728843],\n",
       "         [4.718594],\n",
       "         ...,\n",
       "         [3.170867],\n",
       "         [3.159336],\n",
       "         [3.151649]]),\n",
       "  'TEMP': array([[32.13],\n",
       "         [32.16],\n",
       "         [32.16],\n",
       "         ...,\n",
       "         [34.37],\n",
       "         [34.37],\n",
       "         [34.37]])}}"
      ]
     },
     "execution_count": 23,
     "metadata": {},
     "output_type": "execute_result"
    }
   ],
   "source": [
    "data[\"signal\"]"
   ]
  },
  {
   "cell_type": "code",
   "execution_count": 20,
   "metadata": {},
   "outputs": [
    {
     "data": {
      "text/plain": [
       "(294784, 3)"
      ]
     },
     "execution_count": 20,
     "metadata": {},
     "output_type": "execute_result"
    }
   ],
   "source": [
    "data[\"signal\"][\"wrist\"][\"ACC\"].shape"
   ]
  },
  {
   "cell_type": "code",
   "execution_count": 27,
   "metadata": {},
   "outputs": [
    {
     "data": {
      "text/plain": [
       "(6448400, 1)"
      ]
     },
     "execution_count": 27,
     "metadata": {},
     "output_type": "execute_result"
    }
   ],
   "source": [
    "data[\"signal\"][\"chest\"][\"ECG\"].shape"
   ]
  },
  {
   "cell_type": "code",
   "execution_count": 31,
   "metadata": {},
   "outputs": [
    {
     "data": {
      "text/plain": [
       "((4603,), 73696.0)"
      ]
     },
     "execution_count": 31,
     "metadata": {},
     "output_type": "execute_result"
    }
   ],
   "source": [
    "data[\"label\"].shape, len(data[\"signal\"][\"wrist\"][\"BVP\"]) / 8"
   ]
  },
  {
   "cell_type": "code",
   "execution_count": null,
   "metadata": {},
   "outputs": [],
   "source": []
  }
 ],
 "metadata": {
  "kernelspec": {
   "display_name": "cs7643-a4",
   "language": "python",
   "name": "python3"
  },
  "language_info": {
   "codemirror_mode": {
    "name": "ipython",
    "version": 3
   },
   "file_extension": ".py",
   "mimetype": "text/x-python",
   "name": "python",
   "nbconvert_exporter": "python",
   "pygments_lexer": "ipython3",
   "version": "3.8.10"
  }
 },
 "nbformat": 4,
 "nbformat_minor": 2
}
