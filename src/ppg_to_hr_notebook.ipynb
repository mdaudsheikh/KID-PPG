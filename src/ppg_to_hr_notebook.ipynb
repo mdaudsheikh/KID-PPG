{
 "cells": [
  {
   "cell_type": "code",
   "execution_count": 1,
   "metadata": {},
   "outputs": [],
   "source": [
    "%load_ext autoreload\n",
    "%autoreload 2"
   ]
  },
  {
   "cell_type": "code",
   "execution_count": 17,
   "metadata": {},
   "outputs": [],
   "source": [
    "import preprocessing.generate_preprocessed_dataset as pp\n",
    "from training.temp_attention_training import run_temp_model_training, create_temporal_pairs, create_dataloaders\n",
    "import time"
   ]
  },
  {
   "cell_type": "code",
   "execution_count": 3,
   "metadata": {},
   "outputs": [],
   "source": [
    "# X, y, groups, activities = pp.preprocessing(n_epochs=5)"
   ]
  },
  {
   "cell_type": "code",
   "execution_count": 4,
   "metadata": {},
   "outputs": [],
   "source": [
    "# X.shape, y.shape, groups.shape, activities.shape"
   ]
  },
  {
   "cell_type": "code",
   "execution_count": 5,
   "metadata": {},
   "outputs": [
    {
     "name": "stdout",
     "output_type": "stream",
     "text": [
      "The device used for training is: cuda\n",
      "Starting training of split: [ 2 10 15  6]\n",
      "Starting training of split: [ 5  3  1 12]\n",
      "Starting training of split: [ 8  4 14 11]\n",
      "Starting training of split: [ 7  9 13]\n",
      "Training completed in 2.89 hours.\n"
     ]
    }
   ],
   "source": [
    "start_time = time.time()\n",
    "loss_dict, best_model = run_temp_model_training(1000)\n",
    "end_time = time.time()\n",
    "print(f\"Training completed in {(end_time - start_time) / 3600:.2f} hours.\")"
   ]
  },
  {
   "cell_type": "code",
   "execution_count": null,
   "metadata": {},
   "outputs": [],
   "source": [
    "X, y, groups, activity = pp.preprocessing(n_epochs=None)\n",
    "X = X[:, 0, :]\n",
    "X, y, groups, activity = create_temporal_pairs(X, y, groups, activity)\n",
    "val_loader = create_dataloaders(X, y, batch_size=1)"
   ]
  },
  {
   "cell_type": "code",
   "execution_count": null,
   "metadata": {},
   "outputs": [
    {
     "data": {
      "text/plain": [
       "(64667, 1, 256, 2)"
      ]
     },
     "execution_count": 16,
     "metadata": {},
     "output_type": "execute_result"
    }
   ],
   "source": [
    "X.shape\n",
    "for X[]"
   ]
  },
  {
   "cell_type": "code",
   "execution_count": 12,
   "metadata": {},
   "outputs": [
    {
     "data": {
      "text/plain": [
       "array([ 41.69085059,  41.7219776 ,  41.82354708, ..., 186.80862433,\n",
       "       186.84242878, 187.01542534])"
      ]
     },
     "execution_count": 12,
     "metadata": {},
     "output_type": "execute_result"
    }
   ],
   "source": [
    "import numpy as np\n",
    "np.unique(y)"
   ]
  },
  {
   "cell_type": "code",
   "execution_count": null,
   "metadata": {},
   "outputs": [
    {
     "data": {
      "text/plain": [
       "KID_PPG(\n",
       "  (conv_block1): ConvolutionBlock(\n",
       "    (conv1): Conv1d(1, 32, kernel_size=(5,), stride=(1,), dilation=(2,))\n",
       "    (relu1): ReLU()\n",
       "    (conv2): Conv1d(32, 32, kernel_size=(5,), stride=(1,), dilation=(2,))\n",
       "    (relu2): ReLU()\n",
       "    (conv3): Conv1d(32, 32, kernel_size=(5,), stride=(1,), dilation=(2,))\n",
       "    (relu3): ReLU()\n",
       "    (avg_pooling): AvgPool1d(kernel_size=(4,), stride=(4,), padding=(0,))\n",
       "    (dropout): Dropout(p=0.5, inplace=False)\n",
       "  )\n",
       "  (conv_block2): ConvolutionBlock(\n",
       "    (conv1): Conv1d(32, 48, kernel_size=(5,), stride=(1,), dilation=(2,))\n",
       "    (relu1): ReLU()\n",
       "    (conv2): Conv1d(48, 48, kernel_size=(5,), stride=(1,), dilation=(2,))\n",
       "    (relu2): ReLU()\n",
       "    (conv3): Conv1d(48, 48, kernel_size=(5,), stride=(1,), dilation=(2,))\n",
       "    (relu3): ReLU()\n",
       "    (avg_pooling): AvgPool1d(kernel_size=(2,), stride=(2,), padding=(0,))\n",
       "    (dropout): Dropout(p=0.5, inplace=False)\n",
       "  )\n",
       "  (conv_block3): ConvolutionBlock(\n",
       "    (conv1): Conv1d(48, 64, kernel_size=(5,), stride=(1,), dilation=(2,))\n",
       "    (relu1): ReLU()\n",
       "    (conv2): Conv1d(64, 64, kernel_size=(5,), stride=(1,), dilation=(2,))\n",
       "    (relu2): ReLU()\n",
       "    (conv3): Conv1d(64, 64, kernel_size=(5,), stride=(1,), dilation=(2,))\n",
       "    (relu3): ReLU()\n",
       "    (avg_pooling): AvgPool1d(kernel_size=(2,), stride=(2,), padding=(0,))\n",
       "    (dropout): Dropout(p=0.5, inplace=False)\n",
       "  )\n",
       "  (attention): MultiheadAttention(\n",
       "    (out_proj): NonDynamicallyQuantizableLinear(in_features=16, out_features=16, bias=True)\n",
       "  )\n",
       "  (layer_norm): LayerNorm((16,), eps=1e-05, elementwise_affine=True)\n",
       "  (flatten_layer): Flatten(start_dim=1, end_dim=-1)\n",
       "  (fc1): Linear(in_features=1024, out_features=256, bias=True)\n",
       "  (dropout): Dropout(p=0.125, inplace=False)\n",
       "  (fc2): Linear(in_features=256, out_features=1, bias=True)\n",
       ")"
      ]
     },
     "execution_count": 6,
     "metadata": {},
     "output_type": "execute_result"
    }
   ],
   "source": [
    "best_model()"
   ]
  },
  {
   "cell_type": "code",
   "execution_count": null,
   "metadata": {},
   "outputs": [],
   "source": []
  }
 ],
 "metadata": {
  "kernelspec": {
   "display_name": "cs7643-a2",
   "language": "python",
   "name": "python3"
  },
  "language_info": {
   "codemirror_mode": {
    "name": "ipython",
    "version": 3
   },
   "file_extension": ".py",
   "mimetype": "text/x-python",
   "name": "python",
   "nbconvert_exporter": "python",
   "pygments_lexer": "ipython3",
   "version": "3.12.0"
  }
 },
 "nbformat": 4,
 "nbformat_minor": 2
}
